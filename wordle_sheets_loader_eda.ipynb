{
 "cells": [
  {
   "cell_type": "markdown",
   "metadata": {},
   "source": [
    "# WORDLE Sheets Loader\n",
    "\n",
    "This notebook contains the code required to extract Wordle scores from an iMessage thread and to load them to a Google Sheet. It was developed using Mac OS X Ventura 13.5.2 on Apple Silicon (M1 chip) and Python 3.11.5.\n",
    "\n",
    "## Required Setup\n",
    "* (Optional): If you have conda installed, create a Conda environment using env.txt file:\n",
    "    * conda env create --file wordle-py-env.txt\n",
    "* Allow access Full Disk Access for Terminal application so Python can read iMessage database:\n",
    "    * System Settings > Privacy & Security > Full Disk Access > enable Terminal (use `+` icon to add if needed)\n",
    "    * Confirm you can access the `chat.db` file from Terminal by running `ls -l ~/Library/Messages/chat.db`\n",
    "    * Add the full file path (`/Users/<username>/Library/Messages/chat.db`) to `config.yaml` under `message_db_path`\n",
    "* Create a Google Sheet and copy and paste the `sharing link` into the `sheets_link` value in `config.yaml`\n",
    "* Create a Service Account to allow access to your Google Sheet\n",
    "    * The [Authentication section of the gspread docs](https://docs.gspread.org/en/latest/oauth2.html) have good instructions. I opted to create a Service Account and a Service Account key JSON file.\n",
    "    * Save the JSON file to a safe location on your local system and add the path as the `service_account_key_path` value in `config.yaml`\n",
    "* Follow steps below to find one (or more) `chat_ids` that correspond to the iMessage threads your Wordle score messages are in\n",
    "    * fill in `chat_ids` in `config.yaml`\n",
    "    * Create entries in `handle_dict` in `config.yaml` to translate phone numbers and/or iMessage email IDs into names\n",
    "    * Put your own name in the `is_from_me_name` in `config.yaml`\n",
    "\n",
    "\n",
    "### References:\n",
    "* Article: https://towardsdatascience.com/heres-how-you-can-access-your-entire-imessage-history-on-your-mac-f8878276c6e9\n",
    "* GitHub code - iMessage DB analysis: https://github.com/yortos/imessage-analysis\n",
    "* iMessage reader - incl. bytestring decoding: https://github.com/niftycode/imessage_reader\n"
   ]
  },
  {
   "cell_type": "code",
   "execution_count": 1,
   "metadata": {
    "ExecuteTime": {
     "end_time": "2019-03-06T22:43:16.754400",
     "start_time": "2019-03-06T22:43:15.821349"
    }
   },
   "outputs": [],
   "source": [
    "import os\n",
    "import json\n",
    "\n",
    "import gspread\n",
    "import pandas as pd\n",
    "import sqlite3"
   ]
  },
  {
   "cell_type": "code",
   "execution_count": 2,
   "metadata": {},
   "outputs": [],
   "source": [
    "# pandas display options - tweak as needed\n",
    "pd.set_option('display.max_rows', 100)\n",
    "pd.set_option('display.max_columns', 100)\n",
    "pd.set_option('display.width', 200)\n",
    "pd.set_option('display.expand_frame_repr', False)\n",
    "pd.set_option('display.max_colwidth', None)\n",
    "\n",
    "# prevents certain strings in displayed text fields from being interpreted as mathematical formulas\n",
    "pd.set_option('display.html.use_mathjax', False)"
   ]
  },
  {
   "cell_type": "markdown",
   "metadata": {},
   "source": [
    "## Extract Messages from Local iMessage DB"
   ]
  },
  {
   "cell_type": "code",
   "execution_count": 36,
   "metadata": {},
   "outputs": [],
   "source": [
    "import yaml\n",
    "config = yaml.safe_load(open(\"./config.yaml\"))"
   ]
  },
  {
   "cell_type": "code",
   "execution_count": 37,
   "metadata": {},
   "outputs": [
    {
     "data": {
      "text/plain": [
       "{'message_db_path': '/Users/<username>/Library/Messages/chat.db',\n",
       " 'sheets_link': 'https://docs.google.com/spreadsheets/d/abcdefg/edit?usp=sharing',\n",
       " 'service_account_key_path': '/Users/<username>/my_secret_key.json',\n",
       " 'chat_ids': [4, 1406],\n",
       " 'handle_dict': {'+13035551234': 'Alice',\n",
       "  '+13035552345': 'Bob',\n",
       "  '+13035553456': 'Foo',\n",
       "  'fake_address@gmail.com': 'Foo'},\n",
       " 'is_from_me_name': 'Baz',\n",
       " 'did_not_finish_score': 7}"
      ]
     },
     "execution_count": 37,
     "metadata": {},
     "output_type": "execute_result"
    }
   ],
   "source": [
    "config"
   ]
  },
  {
   "cell_type": "code",
   "execution_count": 5,
   "metadata": {},
   "outputs": [
    {
     "name": "stdout",
     "output_type": "stream",
     "text": [
      "Accessing local iMessage chat.db...\n"
     ]
    }
   ],
   "source": [
    "print(f'Accessing local iMessage chat.db...')"
   ]
  },
  {
   "cell_type": "code",
   "execution_count": 6,
   "metadata": {
    "ExecuteTime": {
     "end_time": "2019-03-06T22:44:24.132670",
     "start_time": "2019-03-06T22:44:24.123631"
    }
   },
   "outputs": [
    {
     "name": "stdout",
     "output_type": "stream",
     "text": [
      "('_SqliteDatabaseProperties',)\n",
      "('chat_message_join',)\n",
      "('deleted_messages',)\n",
      "('sqlite_sequence',)\n",
      "('chat_recoverable_message_join',)\n",
      "('handle',)\n",
      "('sync_deleted_chats',)\n",
      "('kvtable',)\n",
      "('sync_deleted_attachments',)\n",
      "('sync_deleted_messages',)\n",
      "('unsynced_removed_recoverable_messages',)\n",
      "('recoverable_message_part',)\n",
      "('chat_handle_join',)\n",
      "('message_attachment_join',)\n",
      "('message_processing_task',)\n",
      "('message',)\n",
      "('chat',)\n",
      "('attachment',)\n",
      "('sqlite_stat1',)\n"
     ]
    }
   ],
   "source": [
    "# find local chat.db and establish a connection\n",
    "conn = sqlite3.connect(config['message_db_path'])\n",
    "cur = conn.cursor()\n",
    "\n",
    "# query the database to get all the table names\n",
    "cur.execute(\" select name from sqlite_master where type = 'table' \")\n",
    "\n",
    "for name in cur.fetchall():\n",
    "    print(name)"
   ]
  },
  {
   "cell_type": "code",
   "execution_count": 7,
   "metadata": {},
   "outputs": [
    {
     "data": {
      "text/html": [
       "<div>\n",
       "<style scoped>\n",
       "    .dataframe tbody tr th:only-of-type {\n",
       "        vertical-align: middle;\n",
       "    }\n",
       "\n",
       "    .dataframe tbody tr th {\n",
       "        vertical-align: top;\n",
       "    }\n",
       "\n",
       "    .dataframe thead th {\n",
       "        text-align: right;\n",
       "    }\n",
       "</style>\n",
       "<table border=\"1\" class=\"dataframe tex2jax_ignore\">\n",
       "  <thead>\n",
       "    <tr style=\"text-align: right;\">\n",
       "      <th></th>\n",
       "      <th>chat_id</th>\n",
       "      <th>message_id</th>\n",
       "      <th>text</th>\n",
       "    </tr>\n",
       "  </thead>\n",
       "  <tbody>\n",
       "    <tr>\n",
       "      <th>0</th>\n",
       "      <td>1406</td>\n",
       "      <td>24646</td>\n",
       "      <td>Wordle 258 5/6\\n\\n⬛⬛🟨⬛🟨\\n🟩🟨⬛🟨⬛\\n🟩⬛⬛⬛⬛\\n🟩⬛🟩⬛🟩\\n🟩🟩🟩🟩🟩</td>\n",
       "    </tr>\n",
       "    <tr>\n",
       "      <th>1</th>\n",
       "      <td>1406</td>\n",
       "      <td>24633</td>\n",
       "      <td>Emphasized “Wordle 258 2/6\\n\\n🟩🟨⬛🟨⬛\\n🟩🟩🟩🟩🟩”</td>\n",
       "    </tr>\n",
       "    <tr>\n",
       "      <th>2</th>\n",
       "      <td>1406</td>\n",
       "      <td>24619</td>\n",
       "      <td>Wordle 258 4/6\\n\\n🟨🟨🟨⬜⬜\\n⬜🟩🟩🟩⬜\\n⬜🟩🟩🟩⬜\\n🟩🟩🟩🟩🟩</td>\n",
       "    </tr>\n",
       "    <tr>\n",
       "      <th>3</th>\n",
       "      <td>1406</td>\n",
       "      <td>24726</td>\n",
       "      <td>Wordle 258 2/6\\n\\n🟩🟨⬛🟨⬛\\n🟩🟩🟩🟩🟩</td>\n",
       "    </tr>\n",
       "    <tr>\n",
       "      <th>4</th>\n",
       "      <td>1406</td>\n",
       "      <td>24670</td>\n",
       "      <td>Wordle 258 4/6\\n\\n⬛⬛🟨⬛🟨\\n⬛⬛🟩🟩🟩\\n⬛⬛🟩🟩🟩\\n🟩🟩🟩🟩🟩</td>\n",
       "    </tr>\n",
       "    <tr>\n",
       "      <th>5</th>\n",
       "      <td>1406</td>\n",
       "      <td>24786</td>\n",
       "      <td>Wordle 258 4/6\\n\\n🟨⬜⬜⬜🟨\\n⬜🟩🟩🟩⬜\\n⬜🟩🟩🟩⬜\\n🟩🟩🟩🟩🟩</td>\n",
       "    </tr>\n",
       "    <tr>\n",
       "      <th>6</th>\n",
       "      <td>1406</td>\n",
       "      <td>24730</td>\n",
       "      <td>Wordle 258 4/6\\n\\n🟩🟨⬛🟨⬛\\n🟩⬛⬛🟨🟨\\n🟩⬛🟩⬛🟩\\n🟩🟩🟩🟩🟩</td>\n",
       "    </tr>\n",
       "  </tbody>\n",
       "</table>\n",
       "</div>"
      ],
      "text/plain": [
       "   chat_id  message_id                                                 text\n",
       "0     1406       24646  Wordle 258 5/6\\n\\n⬛⬛🟨⬛🟨\\n🟩🟨⬛🟨⬛\\n🟩⬛⬛⬛⬛\\n🟩⬛🟩⬛🟩\\n🟩🟩🟩🟩🟩\n",
       "1     1406       24633          Emphasized “Wordle 258 2/6\\n\\n🟩🟨⬛🟨⬛\\n🟩🟩🟩🟩🟩”\n",
       "2     1406       24619         Wordle 258 4/6\\n\\n🟨🟨🟨⬜⬜\\n⬜🟩🟩🟩⬜\\n⬜🟩🟩🟩⬜\\n🟩🟩🟩🟩🟩\n",
       "3     1406       24726                       Wordle 258 2/6\\n\\n🟩🟨⬛🟨⬛\\n🟩🟩🟩🟩🟩\n",
       "4     1406       24670         Wordle 258 4/6\\n\\n⬛⬛🟨⬛🟨\\n⬛⬛🟩🟩🟩\\n⬛⬛🟩🟩🟩\\n🟩🟩🟩🟩🟩\n",
       "5     1406       24786         Wordle 258 4/6\\n\\n🟨⬜⬜⬜🟨\\n⬜🟩🟩🟩⬜\\n⬜🟩🟩🟩⬜\\n🟩🟩🟩🟩🟩\n",
       "6     1406       24730         Wordle 258 4/6\\n\\n🟩🟨⬛🟨⬛\\n🟩⬛⬛🟨🟨\\n🟩⬛🟩⬛🟩\\n🟩🟩🟩🟩🟩"
      ]
     },
     "execution_count": 7,
     "metadata": {},
     "output_type": "execute_result"
    }
   ],
   "source": [
    "# find chat_id(s) for iMessage thread(s) from which wordle scores are to be extracted\n",
    "# search for messages using `text` field - can't easily wildcard blob column in SQL due to data type\n",
    "\n",
    "pd.read_sql_query(\"\"\"\n",
    "SELECT c.chat_id,\n",
    "    c.message_id,\n",
    "    m.text\n",
    "FROM message m\n",
    "    LEFT JOIN chat_message_join c\n",
    "    ON m.ROWID = c.message_id\n",
    "WHERE m.text LIKE '%Wordle 258%'\n",
    "ORDER BY date DESC\n",
    "LIMIT 100\n",
    "\"\"\", conn)"
   ]
  },
  {
   "cell_type": "code",
   "execution_count": null,
   "metadata": {},
   "outputs": [],
   "source": [
    "# Main SQL query to load all non-reaction messages from specified iMessage threads\n",
    "# NOTE: uncomment the `select *` rows to see what else is in the tables\n",
    "\n",
    "chat_id_list = [f\"c.chat_id = {x}\" for x in config['chat_ids']]\n",
    "chat_id_string = ' OR '.join(chat_id_list)\n",
    "\n",
    "query = f\"\"\"\n",
    "SELECT h.id AS handle\n",
    "    , c.message_id\n",
    "    , c.chat_id\n",
    "    , m.is_from_me\n",
    "    , m.date\n",
    "    , m.text\n",
    "    , m.attributedBody\n",
    "    --, h.*\n",
    "    --, c.*\n",
    "    --, m.*\n",
    "FROM message m\n",
    "    LEFT JOIN chat_message_join c\n",
    "        ON m.ROWID = c.message_id\n",
    "    LEFT JOIN handle h\n",
    "        ON m.handle_id = h.ROWID\n",
    "WHERE m.associated_message_guid IS NULL --filters out reaction messages\n",
    "    AND m.attributedBody IS NOT NULL --filters out messages with no body\n",
    "    AND ({chat_id_string})\n",
    "ORDER BY date DESC\n",
    "\"\"\"\n",
    "\n",
    "emojis_df = pd.read_sql_query(query, conn)\n",
    "\n",
    "emojis_df.head(10)"
   ]
  },
  {
   "cell_type": "code",
   "execution_count": 9,
   "metadata": {},
   "outputs": [],
   "source": [
    "def decode_streamtyped_blob(blob: str) -> str:\n",
    "    \"\"\"Function to extract messages contained in binary blob under the attributedBody field\n",
    "    in messages table in iMessage chat.db.\n",
    "\n",
    "    Parameters\n",
    "    ----------\n",
    "    blob : str\n",
    "        Binary blob from attributedBody field from iMessage db.\n",
    "\n",
    "    Returns\n",
    "    -------\n",
    "    str\n",
    "        Decoded message string\n",
    "\n",
    "    \"\"\"\n",
    "    try:\n",
    "        text = blob.split(b\"NSString\")[1]\n",
    "        text = text[5:]  # stripping some preamble which generally looks like this: b'\\x01\\x94\\x84\\x01+'\n",
    "        \n",
    "        # this 129 is b'\\x81, python indexes byte strings as ints,\n",
    "        # this is equivalent to text[0:1] == b'\\x81'\n",
    "        if text[0] == 129:\n",
    "            length = int.from_bytes(text[1:3], \"little\")\n",
    "            text = text[3: length + 3]\n",
    "        else:\n",
    "            length = text[0]\n",
    "            text = text[1: length + 1]\n",
    "        return text.decode()\n",
    "\n",
    "    except Exception as e:\n",
    "        print(blob)\n",
    "        print(e)\n",
    "        return \"ERROR: Can't decode message.\""
   ]
  },
  {
   "cell_type": "code",
   "execution_count": 10,
   "metadata": {},
   "outputs": [],
   "source": [
    "emojis_df['decoded_message'] = emojis_df['attributedBody'].apply(lambda x: decode_streamtyped_blob(x))"
   ]
  },
  {
   "cell_type": "code",
   "execution_count": null,
   "metadata": {},
   "outputs": [],
   "source": [
    "# text column is only sometimes populated, so we need to manually decode the attributedBody column\n",
    "emojis_df[emojis_df['text'] != emojis_df['decoded_message']]"
   ]
  },
  {
   "cell_type": "code",
   "execution_count": 12,
   "metadata": {},
   "outputs": [],
   "source": [
    "emojis_df.drop(['text', 'attributedBody'], axis=1, inplace=True)\n",
    "\n",
    "# Keep only messages with 'Wordle ?/6' syntax\n",
    "filtered_df = emojis_df[emojis_df['decoded_message'].str.contains('Wordle.*\\/6.*', regex=True, na=False)]\n",
    "\n",
    "# Keep only messages with wordle emoji squares in them\n",
    "filtered_df = filtered_df[filtered_df['decoded_message'].str.contains('(?:⬛|⬜|🟨|🟦|🟩|🟧)', regex=True, na=False)]"
   ]
  },
  {
   "cell_type": "code",
   "execution_count": 13,
   "metadata": {},
   "outputs": [],
   "source": [
    "# Create new column with just extracted scores and fill in X / did not finish scores\n",
    "filtered_df['score'] = filtered_df['decoded_message'].str.extract('(?:Wordle \\d+ )(\\d)(?:/\\d)', expand=True)\n",
    "filtered_df['score'] = filtered_df['score'].fillna(config['did_not_finish_score']).astype(int)"
   ]
  },
  {
   "cell_type": "code",
   "execution_count": 14,
   "metadata": {},
   "outputs": [],
   "source": [
    "# Create new column with game numbers\n",
    "filtered_df['game_num'] = filtered_df['decoded_message'].str.extract('(?:Wordle )(\\d\\d\\d)(?: ./6)', expand=True)"
   ]
  },
  {
   "cell_type": "code",
   "execution_count": null,
   "metadata": {},
   "outputs": [],
   "source": [
    "filtered_df.head()"
   ]
  },
  {
   "cell_type": "code",
   "execution_count": 17,
   "metadata": {},
   "outputs": [
    {
     "name": "stdout",
     "output_type": "stream",
     "text": [
      "Found 2725 scores in iMessage threads.\n"
     ]
    }
   ],
   "source": [
    "print(f\"Found {len(filtered_df.index)} scores in iMessage threads.\")"
   ]
  },
  {
   "cell_type": "markdown",
   "metadata": {},
   "source": [
    "## Convert `handles` (phone numbers/emails) and `is_from_me` flags to names"
   ]
  },
  {
   "cell_type": "code",
   "execution_count": null,
   "metadata": {},
   "outputs": [],
   "source": [
    "# Spot check to see which handles exist and need to be added to `handle_dict` in config.yaml\n",
    "print(filtered_df['handle'].unique())"
   ]
  },
  {
   "cell_type": "code",
   "execution_count": 19,
   "metadata": {},
   "outputs": [],
   "source": [
    "# Use dictionary from config.yaml to translate numbers & emails to names\n",
    "filtered_df['name'] = filtered_df['handle'].replace(config['handle_dict'])"
   ]
  },
  {
   "cell_type": "code",
   "execution_count": 20,
   "metadata": {},
   "outputs": [],
   "source": [
    "# Use `is_from_me` flags to fill in name from config.yaml\n",
    "filtered_df.loc[filtered_df['is_from_me'] == 1, 'name'] = config['is_from_me_name']"
   ]
  },
  {
   "cell_type": "code",
   "execution_count": 21,
   "metadata": {},
   "outputs": [],
   "source": [
    "# make sure there are no unassigned scores\n",
    "assert len(filtered_df[filtered_df['name'].isnull()]) == 0\n",
    "assert len(filtered_df[filtered_df['name'] == '']) == 0"
   ]
  },
  {
   "cell_type": "code",
   "execution_count": null,
   "metadata": {},
   "outputs": [],
   "source": [
    "# make sure all handles were translated correctly\n",
    "print(filtered_df['name'].unique())"
   ]
  },
  {
   "cell_type": "code",
   "execution_count": 23,
   "metadata": {},
   "outputs": [],
   "source": [
    "scores_df = filtered_df[['name','game_num','score']].copy()"
   ]
  },
  {
   "cell_type": "code",
   "execution_count": 24,
   "metadata": {},
   "outputs": [],
   "source": [
    "# make sure there is only one score per game per person\n",
    "dedup_scores_df = scores_df.groupby(['name', 'game_num']).head(1)"
   ]
  },
  {
   "cell_type": "code",
   "execution_count": null,
   "metadata": {},
   "outputs": [],
   "source": [
    "dedup_scores_df.head(6)"
   ]
  },
  {
   "cell_type": "code",
   "execution_count": 26,
   "metadata": {},
   "outputs": [],
   "source": [
    "game_idx_df = dedup_scores_df.set_index('game_num')"
   ]
  },
  {
   "cell_type": "code",
   "execution_count": 27,
   "metadata": {},
   "outputs": [],
   "source": [
    "# Pivot table & clean up\n",
    "df_format_asc = game_idx_df.pivot(columns='name')\n",
    "df_format_desc = df_format_asc.sort_index(ascending=False)\n",
    "df_format_desc.fillna('', inplace=True)\n",
    "\n",
    "# Change game numbers from index to column\n",
    "df_format_desc.reset_index(inplace=True)\n",
    "\n",
    "# cast game numbers to int\n",
    "df_format_desc.game_num = df_format_desc.game_num.astype(int)"
   ]
  },
  {
   "cell_type": "code",
   "execution_count": null,
   "metadata": {},
   "outputs": [],
   "source": [
    "# get list of names to upload them separately\n",
    "names_list = df_format_asc.columns.levels[1].tolist()"
   ]
  },
  {
   "cell_type": "markdown",
   "metadata": {},
   "source": [
    "## Google Sheets API"
   ]
  },
  {
   "cell_type": "code",
   "execution_count": 29,
   "metadata": {},
   "outputs": [
    {
     "name": "stdout",
     "output_type": "stream",
     "text": [
      "Successfully accessed Google Sheet.\n"
     ]
    }
   ],
   "source": [
    "gc = gspread.service_account(filename=config['service_account_key_path'])\n",
    "sh = gc.open_by_url(config['sheets_link'])\n",
    "wks = sh.get_worksheet(0)\n",
    "\n",
    "# Confirm we can read from worksheet\n",
    "if (type(wks.acell('B1').value)) == str:\n",
    "    print(\"Successfully accessed Google Sheet.\")"
   ]
  },
  {
   "cell_type": "code",
   "execution_count": null,
   "metadata": {},
   "outputs": [],
   "source": [
    "# Update list of names in case order changed - edit cell range if needed\n",
    "wks.update('B1:G1', [names_list])"
   ]
  },
  {
   "cell_type": "code",
   "execution_count": 31,
   "metadata": {},
   "outputs": [
    {
     "name": "stdout",
     "output_type": "stream",
     "text": [
      "Writing scores to Google Sheet. Game number range: 224 - 831\n"
     ]
    }
   ],
   "source": [
    "game_nums = df_format_desc.game_num\n",
    "print(f'Writing scores to Google Sheet. Game number range: {game_nums.min()} - {game_nums.max()}')"
   ]
  },
  {
   "cell_type": "code",
   "execution_count": null,
   "metadata": {},
   "outputs": [],
   "source": [
    "# Extract values only as list\n",
    "scores_list = df_format_desc.values.tolist()\n",
    "\n",
    "# Write scores to Google Sheet - edit cell range if needed\n",
    "scores_logs = wks.update(f'A5:G{len(scores_list) + 4}', df_format_desc.values.tolist())\n",
    "print(f'Google Sheet update confirmation:\\n{json.dumps(scores_logs, indent = 4)}')"
   ]
  },
  {
   "cell_type": "code",
   "execution_count": null,
   "metadata": {},
   "outputs": [],
   "source": [
    "print(f\"Google Sheet link:\\n{config['sheets_link']}\")"
   ]
  },
  {
   "cell_type": "code",
   "execution_count": 34,
   "metadata": {},
   "outputs": [],
   "source": [
    "# close connections to local database\n",
    "cur.close()\n",
    "conn.close()"
   ]
  },
  {
   "cell_type": "code",
   "execution_count": 35,
   "metadata": {},
   "outputs": [
    {
     "data": {
      "text/plain": [
       "0"
      ]
     },
     "execution_count": 35,
     "metadata": {},
     "output_type": "execute_result"
    }
   ],
   "source": [
    "# open Google sheet in Safari\n",
    "os.system(f\"open -a Safari {config['sheets_link']}\")"
   ]
  }
 ],
 "metadata": {
  "anaconda-cloud": {},
  "kernelspec": {
   "display_name": "Python 3 (ipykernel)",
   "language": "python",
   "name": "python3"
  },
  "language_info": {
   "codemirror_mode": {
    "name": "ipython",
    "version": 3
   },
   "file_extension": ".py",
   "mimetype": "text/x-python",
   "name": "python",
   "nbconvert_exporter": "python",
   "pygments_lexer": "ipython3",
   "version": "3.11.5"
  },
  "toc": {
   "colors": {
    "hover_highlight": "#DAA520",
    "running_highlight": "#FF0000",
    "selected_highlight": "#FFD700"
   },
   "moveMenuLeft": true,
   "nav_menu": {
    "height": "30px",
    "width": "252px"
   },
   "navigate_menu": true,
   "number_sections": true,
   "sideBar": true,
   "threshold": 4,
   "toc_cell": false,
   "toc_section_display": "block",
   "toc_window_display": false
  }
 },
 "nbformat": 4,
 "nbformat_minor": 4
}
